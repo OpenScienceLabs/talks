{
 "cells": [
  {
   "cell_type": "markdown",
   "id": "515f4cd9-7127-4ac9-964c-d342bc91c257",
   "metadata": {},
   "source": [
    "# Optimizando el Flujo de Trabajo en Desarrollo y DevOps con Sugar"
   ]
  },
  {
   "cell_type": "markdown",
   "id": "32bf7451-439f-46a0-b356-b05738805938",
   "metadata": {},
   "source": [
    "![](https://raw.githubusercontent.com/osl-incubator/sugar/main/artwork/v1/logo.png)"
   ]
  },
  {
   "cell_type": "markdown",
   "id": "3aa212a6-2948-413c-909e-0d516d797f45",
   "metadata": {},
   "source": [
    "## Repositorio\n",
    "\n",
    "https://github.com/osl-incubator/sugar"
   ]
  },
  {
   "cell_type": "markdown",
   "id": "80ff8d05-9dce-4f6f-8ac7-e733c0a9a805",
   "metadata": {},
   "source": [
    "## Setup"
   ]
  },
  {
   "cell_type": "code",
   "execution_count": null,
   "id": "5bb71c79-4880-4333-895d-d873ab162ec3",
   "metadata": {},
   "outputs": [],
   "source": [
    "# !pip install \"containers-sugar==1.9.2\""
   ]
  },
  {
   "cell_type": "markdown",
   "id": "9edee1ce-e194-490c-b7ce-b33a6b447d99",
   "metadata": {},
   "source": [
    "## Sugar"
   ]
  },
  {
   "cell_type": "markdown",
   "id": "22e67bf4-dafe-4716-8561-fd7c8381fbea",
   "metadata": {},
   "source": [
    "Problemas que intenta solucionar sugar:\n",
    "\n",
    "* facilita manejo de distintos grupos de servicios de uno o más archivos docker-compose\n",
    "* facilita el uso de archivos de environment\n",
    "* soporte a docker-compose v1 y v2\n",
    "* soporte a casi todos los comandos de docker-compose (v2)\n",
    "* definición de grupos de servicios por variables de entorno\n",
    "* posibilidad de extensión de comandos"
   ]
  },
  {
   "cell_type": "markdown",
   "id": "6aef7fab-7647-4bc6-b726-b06d45155d0f",
   "metadata": {},
   "source": [
    "Let's start with the docker-compose.yaml:"
   ]
  },
  {
   "cell_type": "code",
   "execution_count": 1,
   "id": "ca56b3d8-df19-48eb-9f56-c0d8b38d206e",
   "metadata": {},
   "outputs": [
    {
     "name": "stdout",
     "output_type": "stream",
     "text": [
      "Overwriting docker-compose-sugar.yaml\n"
     ]
    }
   ],
   "source": [
    "%%writefile docker-compose-sugar.yaml\n",
    "version: \"3.9\"\n",
    "services:\n",
    "  s1:\n",
    "    image: python:3.11\n",
    "    command: \"python -m http.server $S1_PORT\"\n",
    "  s2:\n",
    "    image: python:3.11\n",
    "    command: \"python -m http.server $S2_PORT\"\n",
    "  s3:\n",
    "    image: python:3.11\n",
    "    command: \"python -m http.server $S3_PORT\""
   ]
  },
  {
   "cell_type": "markdown",
   "id": "a52730e2-f826-4e93-8924-5f4a16c61ded",
   "metadata": {},
   "source": [
    "NOTA: necesitamos instalar docker-compose. Para ello, instalamos el paquete compose-go que es un wrapper para docker-compose 2 escrito go."
   ]
  },
  {
   "cell_type": "code",
   "execution_count": null,
   "id": "82c781b2-06fd-4037-bd33-8b22c4bd6afb",
   "metadata": {},
   "outputs": [],
   "source": [
    "# !pip install compose-go"
   ]
  },
  {
   "cell_type": "markdown",
   "id": "f16936de-d6fc-4240-9cbf-84b0ff2a3bb8",
   "metadata": {},
   "source": [
    "Problemas con el format yaml? \n",
    "Verifique tu archivo con https://www.yamllint.com/"
   ]
  },
  {
   "cell_type": "code",
   "execution_count": 2,
   "id": "de502ab1-76e7-4a3b-996e-464dc2e412b0",
   "metadata": {},
   "outputs": [
    {
     "name": "stdout",
     "output_type": "stream",
     "text": [
      "Overwriting .env.sugar\n"
     ]
    }
   ],
   "source": [
    "%%writefile .env.sugar\n",
    "S1_PORT=18001\n",
    "S2_PORT=18002\n",
    "S3_PORT=18003\n",
    "SUGAR_GROUP=dev\n",
    "SUGAR_PROJECT_NAME=pyconbo2023"
   ]
  },
  {
   "cell_type": "code",
   "execution_count": 3,
   "id": "6cb6c03f-1e1b-442c-ba86-14844f8a907e",
   "metadata": {
    "scrolled": true
   },
   "outputs": [
    {
     "name": "stdout",
     "output_type": "stream",
     "text": [
      "name: pyconbolivia2023\n",
      "services:\n",
      "  s1:\n",
      "    command:\n",
      "    - python\n",
      "    - -m\n",
      "    - http.server\n",
      "    - \"18000\"\n",
      "    image: python:3.11\n",
      "    networks:\n",
      "      default: null\n",
      "  s2:\n",
      "    command:\n",
      "    - python\n",
      "    - -m\n",
      "    - http.server\n",
      "    - \"18001\"\n",
      "    image: python:3.11\n",
      "    networks:\n",
      "      default: null\n",
      "  s3:\n",
      "    command:\n",
      "    - python\n",
      "    - -m\n",
      "    - http.server\n",
      "    - \"18002\"\n",
      "    image: python:3.11\n",
      "    networks:\n",
      "      default: null\n",
      "networks:\n",
      "  default:\n",
      "    name: pyconbolivia2023_default\n"
     ]
    }
   ],
   "source": [
    "# !docker compose config --env-file .env\n",
    "!docker compose config"
   ]
  },
  {
   "cell_type": "code",
   "execution_count": null,
   "id": "85ad49a0-66fa-40b3-a2c6-39f5443eee92",
   "metadata": {
    "scrolled": true
   },
   "outputs": [],
   "source": [
    "!docker compose --env-file .env.sugar --file docker-compose-sugar.yaml config"
   ]
  },
  {
   "cell_type": "code",
   "execution_count": null,
   "id": "9216c83e-dcc3-4718-a3e1-15c80e84abf1",
   "metadata": {},
   "outputs": [],
   "source": [
    "!docker compose --env-file .env.sugar --project-name osl --file docker-compose-sugar.yaml config"
   ]
  },
  {
   "cell_type": "markdown",
   "id": "caab5530-95a0-40da-9ece-b3f51a2e04f2",
   "metadata": {},
   "source": [
    "Para todos los comando de docker compose, vamos a necesitar pasar los mismo parámetros siempre:\n",
    "\n",
    "`--env-file .env.sugar --project-name osl --file docker-compose-sugar.yaml`.\n",
    "\n",
    "Problemas:\n",
    "\n",
    "* es molestoso tener que escribir todos estos parámetros a cada vez que usamos docker compose\n",
    "* podemos olvidarnos de poner uno de los parámetros\n",
    "* podemos poner informaciones incorrectas"
   ]
  },
  {
   "cell_type": "code",
   "execution_count": null,
   "id": "5dcc186f-5eb8-4aa0-a4c7-511b65732bbb",
   "metadata": {},
   "outputs": [],
   "source": [
    "!docker compose --help"
   ]
  },
  {
   "cell_type": "markdown",
   "id": "43b91de8-f108-4d50-991a-5a82653064c6",
   "metadata": {},
   "source": [
    "* **Solución 1:** Usar *Make* o **Makim**.\n",
    "* **Solución 2:** Usar **Sugar**"
   ]
  },
  {
   "cell_type": "markdown",
   "id": "3134425d-a9e6-4147-ac19-352c40fcef4d",
   "metadata": {},
   "source": [
    "### Let's play with Sugar"
   ]
  },
  {
   "cell_type": "markdown",
   "id": "d520fd89-b0f4-4285-9355-bb6cd9b73719",
   "metadata": {},
   "source": [
    "Let's have fun!"
   ]
  },
  {
   "cell_type": "code",
   "execution_count": 4,
   "id": "c0d773bd-5781-4a0b-bd77-9dea0970f09e",
   "metadata": {},
   "outputs": [
    {
     "name": "stdout",
     "output_type": "stream",
     "text": [
      "Overwriting .sugar.yaml\n"
     ]
    }
   ],
   "source": [
    "%%writefile .sugar.yaml\n",
    "version: 1.0\n",
    "env-file: .env.sugar\n",
    "compose-app: docker compose\n",
    "defaults:\n",
    "  group: {{ env.SUGAR_GROUP }}\n",
    "  project-name: sugar-{{ env.SUGAR_PROJECT_NAME }}\n",
    "groups:\n",
    "  - name: prod\n",
    "    compose-path: \n",
    "      - docker-compose-sugar.yaml\n",
    "    env-file: .env.sugar\n",
    "    services:\n",
    "      default: s1,s2\n",
    "      available:\n",
    "        - name: s1\n",
    "        - name: s2\n",
    "\n",
    "  - name: dev\n",
    "    compose-path: \n",
    "      - docker-compose-sugar.yaml\n",
    "    env-file: .env.sugar\n",
    "    services:\n",
    "      default: s1\n",
    "      available:\n",
    "        - name: s1\n",
    "\n",
    "  - name: staging\n",
    "    compose-path: \n",
    "      - docker-compose-sugar.yaml\n",
    "    env-file: .env.sugar\n",
    "    services:\n",
    "      default: s3\n",
    "      available:\n",
    "        - name: s3\n"
   ]
  },
  {
   "cell_type": "code",
   "execution_count": 5,
   "id": "faba9680-e213-4762-afc2-fd9904e0814f",
   "metadata": {},
   "outputs": [
    {
     "name": "stdout",
     "output_type": "stream",
     "text": [
      "usage: sugar [-h] [--verbose] [--version] [--service-group SERVICE_GROUP]\n",
      "             [--services SERVICES] [--service SERVICE] [--all]\n",
      "             [--config-file CONFIG_FILE] [--options OPTIONS] [--cmd CMD]\n",
      "             [plugin] [action]\n",
      "\n",
      "sugar (or sugar) is a tool that help you to organizeand simplify your\n",
      "containers' stack.\n",
      "\n",
      "positional arguments:\n",
      "  plugin                Specify the plugin/extension for the command\n",
      "  action                Specify the command to be performed.\n",
      "\n",
      "options:\n",
      "  -h, --help            show this help message and exit\n",
      "  --verbose             Show the command executed.\n",
      "  --version             Show the version of sugar.\n",
      "  --service-group SERVICE_GROUP, --group SERVICE_GROUP\n",
      "                        Specify the group name of the services you want to use\n",
      "  --services SERVICES   Set the services for the container call. Use comma to\n",
      "                        separate the services's name\n",
      "  --service SERVICE     Set the service for the container call.\n",
      "  --all                 Use all services for the command.\n",
      "  --config-file CONFIG_FILE\n",
      "                        Specify a custom location for the config file.\n",
      "  --options OPTIONS     Specify the options for docker-compose command. E.g.:\n",
      "                        --options -d\n",
      "  --cmd CMD             Specify the COMMAND for some docker-compose command.\n",
      "                        E.g.: --cmd python -c \"print(1)\"\n",
      "\n",
      "If you have any problem, open an issue at: https://github.com/osl-\n",
      "incubator/sugar\n"
     ]
    }
   ],
   "source": [
    "!sugar --help"
   ]
  },
  {
   "cell_type": "code",
   "execution_count": 7,
   "id": "e94755f9-709b-4292-8c68-6bcbe24d7581",
   "metadata": {},
   "outputs": [
    {
     "name": "stdout",
     "output_type": "stream",
     "text": [
      "S1_PORT=18001\n",
      "S2_PORT=18002\n",
      "S3_PORT=18003\n",
      "SUGAR_GROUP=dev\n",
      "SUGAR_PROJECT_NAME=pyconbo2023\n"
     ]
    }
   ],
   "source": [
    "!cat .env.sugar"
   ]
  },
  {
   "cell_type": "code",
   "execution_count": 6,
   "id": "53e82b81-341e-4691-b90a-10e6706ec2da",
   "metadata": {},
   "outputs": [
    {
     "name": "stdout",
     "output_type": "stream",
     "text": [
      "\u001b[1A\u001b[1B\u001b[0G\u001b[?25l[+] Pulling 0/0\n",
      " ⠋ s1 Pulling                                                              \u001b[34m0.1s \u001b[0m\n",
      "\u001b[?25h\u001b[1A\u001b[1A\u001b[0G\u001b[?25l[+] Pulling 0/1\n",
      " ⠙ s1 Pulling                                                              \u001b[34m0.2s \u001b[0m\n",
      "\u001b[?25h\u001b[1A\u001b[1A\u001b[0G\u001b[?25l[+] Pulling 0/1\n",
      " ⠹ s1 Pulling                                                              \u001b[34m0.3s \u001b[0m\n",
      "\u001b[?25h\u001b[1A\u001b[1A\u001b[0G\u001b[?25l[+] Pulling 0/1\n",
      " ⠸ s1 Pulling                                                              \u001b[34m0.4s \u001b[0m\n",
      "\u001b[?25h\u001b[1A\u001b[1A\u001b[0G\u001b[?25l[+] Pulling 0/1\n",
      " ⠼ s1 Pulling                                                              \u001b[34m0.5s \u001b[0m\n",
      "\u001b[?25h\u001b[1A\u001b[1A\u001b[0G\u001b[?25l[+] Pulling 0/1\n",
      " ⠴ s1 Pulling                                                              \u001b[34m0.6s \u001b[0m\n",
      "\u001b[?25h\u001b[1A\u001b[1A\u001b[0G\u001b[?25l[+] Pulling 0/1\n",
      " ⠦ s1 Pulling                                                              \u001b[34m0.7s \u001b[0m\n",
      "\u001b[?25h\u001b[1A\u001b[1A\u001b[0G\u001b[?25l[+] Pulling 0/1\n",
      " ⠧ s1 Pulling                                                              \u001b[34m0.8s \u001b[0m\n",
      "\u001b[?25h\u001b[1A\u001b[1A\u001b[0G\u001b[?25l[+] Pulling 0/1\n",
      " ⠇ s1 Pulling                                                              \u001b[34m0.9s \u001b[0m\n",
      "\u001b[?25h\u001b[1A\u001b[1A\u001b[0G\u001b[?25l[+] Pulling 0/1\n",
      " ⠏ s1 Pulling                                                              \u001b[34m1.0s \u001b[0m\n",
      "\u001b[?25h\u001b[1A\u001b[1A\u001b[0G\u001b[?25l[+] Pulling 0/1\n",
      " ⠋ s1 Pulling                                                              \u001b[34m1.1s \u001b[0m\n",
      "\u001b[?25h\u001b[1A\u001b[1A\u001b[0G\u001b[?25l[+] Pulling 0/1\n",
      " ⠙ s1 Pulling                                                              \u001b[34m1.2s \u001b[0m\n",
      "\u001b[?25h\u001b[1A\u001b[1A\u001b[0G\u001b[?25l[+] Pulling 0/1\n",
      " ⠹ s1 Pulling                                                              \u001b[34m1.3s \u001b[0m\n",
      "\u001b[?25h\u001b[1A\u001b[1A\u001b[0G\u001b[?25l[+] Pulling 0/1\n",
      " ⠸ s1 Pulling                                                              \u001b[34m1.4s \u001b[0m\n",
      "\u001b[?25h\u001b[1A\u001b[1A\u001b[0G\u001b[?25l[+] Pulling 0/1\n",
      " ⠼ s1 Pulling                                                              \u001b[34m1.5s \u001b[0m\n",
      "\u001b[?25h\u001b[1A\u001b[1A\u001b[0G\u001b[?25l[+] Pulling 0/1\n",
      " ⠴ s1 Pulling                                                              \u001b[34m1.6s \u001b[0m\n",
      "\u001b[?25h\u001b[1A\u001b[1A\u001b[0G\u001b[?25l[+] Pulling 0/1\n",
      " ⠦ s1 Pulling                                                              \u001b[34m1.7s \u001b[0m\n",
      "\u001b[?25h\u001b[1A\u001b[1A\u001b[0G\u001b[?25l[+] Pulling 0/1\n",
      " ⠧ s1 Pulling                                                              \u001b[34m1.8s \u001b[0m\n",
      "\u001b[?25h\u001b[1A\u001b[1A\u001b[0G\u001b[?25l[+] Pulling 0/1\n",
      " ⠇ s1 Pulling                                                              \u001b[34m1.9s \u001b[0m\n",
      "\u001b[?25h\u001b[1A\u001b[1A\u001b[0G\u001b[?25l[+] Pulling 0/1\n",
      " ⠏ s1 Pulling                                                              \u001b[34m2.0s \u001b[0m\n",
      "\u001b[?25h\u001b[1A\u001b[1A\u001b[0G\u001b[?25l\u001b[34m[+] Pulling 1/1\u001b[0m\n",
      " \u001b[32m✔\u001b[0m s1 Pulled \u001b[32m\u001b[0m                                                              \u001b[34m2.1s \u001b[0m\n",
      "\u001b[?25h"
     ]
    }
   ],
   "source": [
    "!sugar pull"
   ]
  },
  {
   "cell_type": "code",
   "execution_count": 8,
   "id": "6e23bbe7-be6f-4179-8179-fbb681dd62c0",
   "metadata": {},
   "outputs": [
    {
     "name": "stdout",
     "output_type": "stream",
     "text": [
      "Overwriting .env.sugar\n"
     ]
    }
   ],
   "source": [
    "%%writefile .env.sugar\n",
    "S1_PORT=18001\n",
    "S2_PORT=18002\n",
    "S3_PORT=18003\n",
    "SUGAR_GROUP=prod\n",
    "SUGAR_PROJECT_NAME=pyconbo2023"
   ]
  },
  {
   "cell_type": "code",
   "execution_count": 9,
   "id": "38fb0f12-543d-4834-bce7-ecefbf3597cf",
   "metadata": {},
   "outputs": [
    {
     "name": "stdout",
     "output_type": "stream",
     "text": [
      "\u001b[1A\u001b[1B\u001b[0G\u001b[?25l[+] Pulling 1/0\n",
      " \u001b[32m✔\u001b[0m s1 Skipped - Image is already being pulled by s2 \u001b[32m\u001b[0m                       \u001b[34m0.0s \u001b[0m\n",
      " ⠋ s2 Pulling                                                              \u001b[34m0.1s \u001b[0m\n",
      "\u001b[?25h\u001b[1A\u001b[1A\u001b[1A\u001b[0G\u001b[?25l[+] Pulling 1/2\n",
      " \u001b[32m✔\u001b[0m s1 Skipped - Image is already being pulled by s2 \u001b[32m\u001b[0m                       \u001b[34m0.0s \u001b[0m\n",
      " ⠙ s2 Pulling                                                              \u001b[34m0.2s \u001b[0m\n",
      "\u001b[?25h\u001b[1A\u001b[1A\u001b[1A\u001b[0G\u001b[?25l[+] Pulling 1/2\n",
      " \u001b[32m✔\u001b[0m s1 Skipped - Image is already being pulled by s2 \u001b[32m\u001b[0m                       \u001b[34m0.0s \u001b[0m\n",
      " ⠹ s2 Pulling                                                              \u001b[34m0.3s \u001b[0m\n",
      "\u001b[?25h\u001b[1A\u001b[1A\u001b[1A\u001b[0G\u001b[?25l[+] Pulling 1/2\n",
      " \u001b[32m✔\u001b[0m s1 Skipped - Image is already being pulled by s2 \u001b[32m\u001b[0m                       \u001b[34m0.0s \u001b[0m\n",
      " ⠸ s2 Pulling                                                              \u001b[34m0.4s \u001b[0m\n",
      "\u001b[?25h\u001b[1A\u001b[1A\u001b[1A\u001b[0G\u001b[?25l[+] Pulling 1/2\n",
      " \u001b[32m✔\u001b[0m s1 Skipped - Image is already being pulled by s2 \u001b[32m\u001b[0m                       \u001b[34m0.0s \u001b[0m\n",
      " ⠼ s2 Pulling                                                              \u001b[34m0.5s \u001b[0m\n",
      "\u001b[?25h\u001b[1A\u001b[1A\u001b[1A\u001b[0G\u001b[?25l[+] Pulling 1/2\n",
      " \u001b[32m✔\u001b[0m s1 Skipped - Image is already being pulled by s2 \u001b[32m\u001b[0m                       \u001b[34m0.0s \u001b[0m\n",
      " ⠴ s2 Pulling                                                              \u001b[34m0.6s \u001b[0m\n",
      "\u001b[?25h\u001b[1A\u001b[1A\u001b[1A\u001b[0G\u001b[?25l[+] Pulling 1/2\n",
      " \u001b[32m✔\u001b[0m s1 Skipped - Image is already being pulled by s2 \u001b[32m\u001b[0m                       \u001b[34m0.0s \u001b[0m\n",
      " ⠦ s2 Pulling                                                              \u001b[34m0.7s \u001b[0m\n",
      "\u001b[?25h\u001b[1A\u001b[1A\u001b[1A\u001b[0G\u001b[?25l[+] Pulling 1/2\n",
      " \u001b[32m✔\u001b[0m s1 Skipped - Image is already being pulled by s2 \u001b[32m\u001b[0m                       \u001b[34m0.0s \u001b[0m\n",
      " ⠧ s2 Pulling                                                              \u001b[34m0.8s \u001b[0m\n",
      "\u001b[?25h\u001b[1A\u001b[1A\u001b[1A\u001b[0G\u001b[?25l[+] Pulling 1/2\n",
      " \u001b[32m✔\u001b[0m s1 Skipped - Image is already being pulled by s2 \u001b[32m\u001b[0m                       \u001b[34m0.0s \u001b[0m\n",
      " ⠇ s2 Pulling                                                              \u001b[34m0.9s \u001b[0m\n",
      "\u001b[?25h\u001b[1A\u001b[1A\u001b[1A\u001b[0G\u001b[?25l[+] Pulling 1/2\n",
      " \u001b[32m✔\u001b[0m s1 Skipped - Image is already being pulled by s2 \u001b[32m\u001b[0m                       \u001b[34m0.0s \u001b[0m\n",
      " ⠏ s2 Pulling                                                              \u001b[34m1.0s \u001b[0m\n",
      "\u001b[?25h\u001b[1A\u001b[1A\u001b[1A\u001b[0G\u001b[?25l[+] Pulling 1/2\n",
      " \u001b[32m✔\u001b[0m s1 Skipped - Image is already being pulled by s2 \u001b[32m\u001b[0m                       \u001b[34m0.0s \u001b[0m\n",
      " ⠋ s2 Pulling                                                              \u001b[34m1.1s \u001b[0m\n",
      "\u001b[?25h\u001b[1A\u001b[1A\u001b[1A\u001b[0G\u001b[?25l[+] Pulling 1/2\n",
      " \u001b[32m✔\u001b[0m s1 Skipped - Image is already being pulled by s2 \u001b[32m\u001b[0m                       \u001b[34m0.0s \u001b[0m\n",
      " ⠙ s2 Pulling                                                              \u001b[34m1.2s \u001b[0m\n",
      "\u001b[?25h\u001b[1A\u001b[1A\u001b[1A\u001b[0G\u001b[?25l[+] Pulling 1/2\n",
      " \u001b[32m✔\u001b[0m s1 Skipped - Image is already being pulled by s2 \u001b[32m\u001b[0m                       \u001b[34m0.0s \u001b[0m\n",
      " ⠹ s2 Pulling                                                              \u001b[34m1.3s \u001b[0m\n",
      "\u001b[?25h\u001b[1A\u001b[1A\u001b[1A\u001b[0G\u001b[?25l[+] Pulling 1/2\n",
      " \u001b[32m✔\u001b[0m s1 Skipped - Image is already being pulled by s2 \u001b[32m\u001b[0m                       \u001b[34m0.0s \u001b[0m\n",
      " ⠸ s2 Pulling                                                              \u001b[34m1.4s \u001b[0m\n",
      "\u001b[?25h\u001b[1A\u001b[1A\u001b[1A\u001b[0G\u001b[?25l[+] Pulling 1/2\n",
      " \u001b[32m✔\u001b[0m s1 Skipped - Image is already being pulled by s2 \u001b[32m\u001b[0m                       \u001b[34m0.0s \u001b[0m\n",
      " ⠼ s2 Pulling                                                              \u001b[34m1.5s \u001b[0m\n",
      "\u001b[?25h\u001b[1A\u001b[1A\u001b[1A\u001b[0G\u001b[?25l[+] Pulling 1/2\n",
      " \u001b[32m✔\u001b[0m s1 Skipped - Image is already being pulled by s2 \u001b[32m\u001b[0m                       \u001b[34m0.0s \u001b[0m\n",
      " ⠴ s2 Pulling                                                              \u001b[34m1.6s \u001b[0m\n",
      "\u001b[?25h\u001b[1A\u001b[1A\u001b[1A\u001b[0G\u001b[?25l[+] Pulling 1/2\n",
      " \u001b[32m✔\u001b[0m s1 Skipped - Image is already being pulled by s2 \u001b[32m\u001b[0m                       \u001b[34m0.0s \u001b[0m\n",
      " ⠦ s2 Pulling                                                              \u001b[34m1.7s \u001b[0m\n",
      "\u001b[?25h\u001b[1A\u001b[1A\u001b[1A\u001b[0G\u001b[?25l[+] Pulling 1/2\n",
      " \u001b[32m✔\u001b[0m s1 Skipped - Image is already being pulled by s2 \u001b[32m\u001b[0m                       \u001b[34m0.0s \u001b[0m\n",
      " ⠧ s2 Pulling                                                              \u001b[34m1.8s \u001b[0m\n",
      "\u001b[?25h\u001b[1A\u001b[1A\u001b[1A\u001b[0G\u001b[?25l[+] Pulling 1/2\n",
      " \u001b[32m✔\u001b[0m s1 Skipped - Image is already being pulled by s2 \u001b[32m\u001b[0m                       \u001b[34m0.0s \u001b[0m\n",
      " ⠇ s2 Pulling                                                              \u001b[34m1.9s \u001b[0m\n",
      "\u001b[?25h\u001b[1A\u001b[1A\u001b[1A\u001b[0G\u001b[?25l\u001b[34m[+] Pulling 2/2\u001b[0m\n",
      " \u001b[32m✔\u001b[0m s1 Skipped - Image is already being pulled by s2 \u001b[32m\u001b[0m                       \u001b[34m0.0s \u001b[0m\n",
      " \u001b[32m✔\u001b[0m s2 Pulled                                        \u001b[32m\u001b[0m                       \u001b[34m2.0s \u001b[0m\n",
      "\u001b[?25h\u001b[1A\u001b[1A\u001b[1A\u001b[0G\u001b[?25l\u001b[34m[+] Pulling 2/2\u001b[0m\n",
      " \u001b[32m✔\u001b[0m s1 Skipped - Image is already being pulled by s2 \u001b[32m\u001b[0m                       \u001b[34m0.0s \u001b[0m\n",
      " \u001b[32m✔\u001b[0m s2 Pulled                                        \u001b[32m\u001b[0m                       \u001b[34m2.0s \u001b[0m\n",
      "\u001b[?25h"
     ]
    }
   ],
   "source": [
    "!sugar pull"
   ]
  },
  {
   "cell_type": "code",
   "execution_count": 11,
   "id": "24177d00-984d-4604-a25d-a8cf3c62c11f",
   "metadata": {},
   "outputs": [
    {
     "name": "stdout",
     "output_type": "stream",
     "text": [
      "Overwriting .env.sugar\n"
     ]
    }
   ],
   "source": [
    "%%writefile .env.sugar\n",
    "S1_PORT=18001\n",
    "S2_PORT=18002\n",
    "S3_PORT=18003\n",
    "SUGAR_GROUP=staging\n",
    "SUGAR_PROJECT_NAME=pyconbo2023"
   ]
  },
  {
   "cell_type": "code",
   "execution_count": 12,
   "id": "53ee9bd1-017d-4373-88b5-1fa29f23e41b",
   "metadata": {},
   "outputs": [
    {
     "name": "stdout",
     "output_type": "stream",
     "text": [
      "\u001b[1A\u001b[1B\u001b[0G\u001b[?25l[+] Pulling 0/0\n",
      " ⠋ s3 Pulling                                                              \u001b[34m0.1s \u001b[0m\n",
      "\u001b[?25h\u001b[1A\u001b[1A\u001b[0G\u001b[?25l[+] Pulling 0/1\n",
      " ⠙ s3 Pulling                                                              \u001b[34m0.2s \u001b[0m\n",
      "\u001b[?25h\u001b[1A\u001b[1A\u001b[0G\u001b[?25l[+] Pulling 0/1\n",
      " ⠹ s3 Pulling                                                              \u001b[34m0.3s \u001b[0m\n",
      "\u001b[?25h\u001b[1A\u001b[1A\u001b[0G\u001b[?25l[+] Pulling 0/1\n",
      " ⠸ s3 Pulling                                                              \u001b[34m0.4s \u001b[0m\n",
      "\u001b[?25h\u001b[1A\u001b[1A\u001b[0G\u001b[?25l[+] Pulling 0/1\n",
      " ⠼ s3 Pulling                                                              \u001b[34m0.5s \u001b[0m\n",
      "\u001b[?25h\u001b[1A\u001b[1A\u001b[0G\u001b[?25l[+] Pulling 0/1\n",
      " ⠴ s3 Pulling                                                              \u001b[34m0.6s \u001b[0m\n",
      "\u001b[?25h\u001b[1A\u001b[1A\u001b[0G\u001b[?25l[+] Pulling 0/1\n",
      " ⠦ s3 Pulling                                                              \u001b[34m0.7s \u001b[0m\n",
      "\u001b[?25h\u001b[1A\u001b[1A\u001b[0G\u001b[?25l[+] Pulling 0/1\n",
      " ⠧ s3 Pulling                                                              \u001b[34m0.8s \u001b[0m\n",
      "\u001b[?25h\u001b[1A\u001b[1A\u001b[0G\u001b[?25l[+] Pulling 0/1\n",
      " ⠇ s3 Pulling                                                              \u001b[34m0.9s \u001b[0m\n",
      "\u001b[?25h\u001b[1A\u001b[1A\u001b[0G\u001b[?25l[+] Pulling 0/1\n",
      " ⠏ s3 Pulling                                                              \u001b[34m1.0s \u001b[0m\n",
      "\u001b[?25h\u001b[1A\u001b[1A\u001b[0G\u001b[?25l[+] Pulling 0/1\n",
      " ⠋ s3 Pulling                                                              \u001b[34m1.1s \u001b[0m\n",
      "\u001b[?25h\u001b[1A\u001b[1A\u001b[0G\u001b[?25l[+] Pulling 0/1\n",
      " ⠙ s3 Pulling                                                              \u001b[34m1.2s \u001b[0m\n",
      "\u001b[?25h\u001b[1A\u001b[1A\u001b[0G\u001b[?25l[+] Pulling 0/1\n",
      " ⠹ s3 Pulling                                                              \u001b[34m1.3s \u001b[0m\n",
      "\u001b[?25h\u001b[1A\u001b[1A\u001b[0G\u001b[?25l[+] Pulling 0/1\n",
      " ⠸ s3 Pulling                                                              \u001b[34m1.4s \u001b[0m\n",
      "\u001b[?25h\u001b[1A\u001b[1A\u001b[0G\u001b[?25l[+] Pulling 0/1\n",
      " ⠼ s3 Pulling                                                              \u001b[34m1.5s \u001b[0m\n",
      "\u001b[?25h\u001b[1A\u001b[1A\u001b[0G\u001b[?25l[+] Pulling 0/1\n",
      " ⠴ s3 Pulling                                                              \u001b[34m1.6s \u001b[0m\n",
      "\u001b[?25h\u001b[1A\u001b[1A\u001b[0G\u001b[?25l[+] Pulling 0/1\n",
      " ⠦ s3 Pulling                                                              \u001b[34m1.7s \u001b[0m\n",
      "\u001b[?25h\u001b[1A\u001b[1A\u001b[0G\u001b[?25l\u001b[34m[+] Pulling 1/1\u001b[0m\n",
      " \u001b[32m✔\u001b[0m s3 Pulled \u001b[32m\u001b[0m                                                              \u001b[34m1.8s \u001b[0m\n",
      "\u001b[?25h"
     ]
    }
   ],
   "source": [
    "!sugar pull"
   ]
  },
  {
   "cell_type": "code",
   "execution_count": 13,
   "id": "680cafd7-2fa3-4a1b-9b8e-15ce912b8599",
   "metadata": {},
   "outputs": [
    {
     "name": "stdout",
     "output_type": "stream",
     "text": [
      "\u001b[1A\u001b[1B\u001b[0G\u001b[?25l[+] Pulling 0/0\n",
      " ⠋ s1 Pulling                                                              \u001b[34m0.1s \u001b[0m\n",
      "\u001b[?25h\u001b[1A\u001b[1A\u001b[0G\u001b[?25l[+] Pulling 0/1\n",
      " ⠙ s1 Pulling                                                              \u001b[34m0.2s \u001b[0m\n",
      "\u001b[?25h\u001b[1A\u001b[1A\u001b[0G\u001b[?25l[+] Pulling 0/1\n",
      " ⠹ s1 Pulling                                                              \u001b[34m0.3s \u001b[0m\n",
      "\u001b[?25h\u001b[1A\u001b[1A\u001b[0G\u001b[?25l[+] Pulling 0/1\n",
      " ⠸ s1 Pulling                                                              \u001b[34m0.4s \u001b[0m\n",
      "\u001b[?25h\u001b[1A\u001b[1A\u001b[0G\u001b[?25l[+] Pulling 0/1\n",
      " ⠼ s1 Pulling                                                              \u001b[34m0.5s \u001b[0m\n",
      "\u001b[?25h\u001b[1A\u001b[1A\u001b[0G\u001b[?25l[+] Pulling 0/1\n",
      " ⠴ s1 Pulling                                                              \u001b[34m0.6s \u001b[0m\n",
      "\u001b[?25h\u001b[1A\u001b[1A\u001b[0G\u001b[?25l[+] Pulling 0/1\n",
      " ⠦ s1 Pulling                                                              \u001b[34m0.7s \u001b[0m\n",
      "\u001b[?25h\u001b[1A\u001b[1A\u001b[0G\u001b[?25l[+] Pulling 0/1\n",
      " ⠧ s1 Pulling                                                              \u001b[34m0.8s \u001b[0m\n",
      "\u001b[?25h\u001b[1A\u001b[1A\u001b[0G\u001b[?25l[+] Pulling 0/1\n",
      " ⠇ s1 Pulling                                                              \u001b[34m0.9s \u001b[0m\n",
      "\u001b[?25h\u001b[1A\u001b[1A\u001b[0G\u001b[?25l[+] Pulling 0/1\n",
      " ⠏ s1 Pulling                                                              \u001b[34m1.0s \u001b[0m\n",
      "\u001b[?25h\u001b[1A\u001b[1A\u001b[0G\u001b[?25l[+] Pulling 0/1\n",
      " ⠋ s1 Pulling                                                              \u001b[34m1.1s \u001b[0m\n",
      "\u001b[?25h\u001b[1A\u001b[1A\u001b[0G\u001b[?25l[+] Pulling 0/1\n",
      " ⠙ s1 Pulling                                                              \u001b[34m1.2s \u001b[0m\n",
      "\u001b[?25h\u001b[1A\u001b[1A\u001b[0G\u001b[?25l[+] Pulling 0/1\n",
      " ⠹ s1 Pulling                                                              \u001b[34m1.3s \u001b[0m\n",
      "\u001b[?25h\u001b[1A\u001b[1A\u001b[0G\u001b[?25l[+] Pulling 0/1\n",
      " ⠸ s1 Pulling                                                              \u001b[34m1.4s \u001b[0m\n",
      "\u001b[?25h\u001b[1A\u001b[1A\u001b[0G\u001b[?25l[+] Pulling 0/1\n",
      " ⠼ s1 Pulling                                                              \u001b[34m1.5s \u001b[0m\n",
      "\u001b[?25h\u001b[1A\u001b[1A\u001b[0G\u001b[?25l[+] Pulling 0/1\n",
      " ⠴ s1 Pulling                                                              \u001b[34m1.6s \u001b[0m\n",
      "\u001b[?25h\u001b[1A\u001b[1A\u001b[0G\u001b[?25l\u001b[34m[+] Pulling 1/1\u001b[0m\n",
      " \u001b[32m✔\u001b[0m s1 Pulled \u001b[32m\u001b[0m                                                              \u001b[34m1.7s \u001b[0m\n",
      "\u001b[?25h"
     ]
    }
   ],
   "source": [
    "!sugar pull --group dev"
   ]
  }
 ],
 "metadata": {
  "kernelspec": {
   "display_name": "Python 3 (ipykernel)",
   "language": "python",
   "name": "python3"
  },
  "language_info": {
   "codemirror_mode": {
    "name": "ipython",
    "version": 3
   },
   "file_extension": ".py",
   "mimetype": "text/x-python",
   "name": "python",
   "nbconvert_exporter": "python",
   "pygments_lexer": "ipython3",
   "version": "3.11.7"
  }
 },
 "nbformat": 4,
 "nbformat_minor": 5
}
