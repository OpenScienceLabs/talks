{
 "cells": [
  {
   "cell_type": "markdown",
   "id": "515f4cd9-7127-4ac9-964c-d342bc91c257",
   "metadata": {},
   "source": [
    "# Optimizando el Flujo de Trabajo en Desarrollo y DevOps con Makim"
   ]
  },
  {
   "cell_type": "markdown",
   "id": "8621c19a-85e4-4a77-a403-efaa2378fbba",
   "metadata": {},
   "source": [
    "![](https://raw.githubusercontent.com/osl-incubator/makim/main/artwork/v1/logo.png)"
   ]
  },
  {
   "cell_type": "markdown",
   "id": "80ff8d05-9dce-4f6f-8ac7-e733c0a9a805",
   "metadata": {},
   "source": [
    "## Setup"
   ]
  },
  {
   "cell_type": "code",
   "execution_count": 1,
   "id": "5bb71c79-4880-4333-895d-d873ab162ec3",
   "metadata": {},
   "outputs": [],
   "source": [
    "# !pip install \"makim==1.9.1\""
   ]
  },
  {
   "cell_type": "markdown",
   "id": "9edee1ce-e194-490c-b7ce-b33a6b447d99",
   "metadata": {},
   "source": [
    "## Makim"
   ]
  },
  {
   "cell_type": "markdown",
   "id": "22e67bf4-dafe-4716-8561-fd7c8381fbea",
   "metadata": {},
   "source": [
    "Problemas que intenta solucinar makim:\n",
    "\n",
    "* integración con archivos de entorno\n",
    "* usa un formato amigable (yaml) para la declaración de los targets (scripts) y sus dependencias.\n",
    "* permite uso de argumentos\n",
    "* documentación (help) como parte de la estructura\n",
    "* permite integración con aplicaciones shells y otros lenguajes de programación\n",
    "* agrupación por grupos y integración de targets de distintos grupos"
   ]
  },
  {
   "cell_type": "code",
   "execution_count": 2,
   "id": "ca56b3d8-df19-48eb-9f56-c0d8b38d206e",
   "metadata": {},
   "outputs": [
    {
     "name": "stdout",
     "output_type": "stream",
     "text": [
      "Overwriting Makefile\n"
     ]
    }
   ],
   "source": [
    "%%writefile Makefile\n",
    "\n",
    "ARG1:=\n",
    "ARG2:=\n",
    "\n",
    "target1:\n",
    "        @echo \"target1 $(ARG1)\"\n",
    "\n",
    "target2: target1\n",
    "        @echo \"target2 $(ARG2)\""
   ]
  },
  {
   "cell_type": "code",
   "execution_count": 3,
   "id": "25e0cb62-29b9-4c8d-a217-5bf2a0d4e5ac",
   "metadata": {},
   "outputs": [
    {
     "name": "stdout",
     "output_type": "stream",
     "text": [
      "Makefile:6: *** missing separator (did you mean TAB instead of 8 spaces?).  Stop.\n"
     ]
    }
   ],
   "source": [
    "!make target1"
   ]
  },
  {
   "cell_type": "code",
   "execution_count": 4,
   "id": "9d3449a5-961c-4fc6-a795-43bffea45c58",
   "metadata": {},
   "outputs": [],
   "source": [
    "! sed -i 's/        /\\t/g' Makefile"
   ]
  },
  {
   "cell_type": "code",
   "execution_count": 5,
   "id": "0a48a536-2743-4556-877d-22d6d21a02a1",
   "metadata": {},
   "outputs": [
    {
     "name": "stdout",
     "output_type": "stream",
     "text": [
      "target1 \n"
     ]
    }
   ],
   "source": [
    "!make target1"
   ]
  },
  {
   "cell_type": "code",
   "execution_count": 6,
   "id": "1baf80a9-17f4-4d02-ac91-d6773f2550df",
   "metadata": {},
   "outputs": [
    {
     "name": "stdout",
     "output_type": "stream",
     "text": [
      "target1 \n",
      "target2 \n"
     ]
    }
   ],
   "source": [
    "!make target2"
   ]
  },
  {
   "cell_type": "code",
   "execution_count": 7,
   "id": "c9e6af83-2f0b-4e9f-a8aa-e3ad3b54205c",
   "metadata": {},
   "outputs": [
    {
     "name": "stdout",
     "output_type": "stream",
     "text": [
      "target1 \n"
     ]
    }
   ],
   "source": [
    "# oops no es ARGS1 es ARG1\n",
    "!make target1 ARGS1=arg1"
   ]
  },
  {
   "cell_type": "code",
   "execution_count": 8,
   "id": "cbb61348-f74e-441e-a1a2-e4e567df49ad",
   "metadata": {},
   "outputs": [
    {
     "name": "stdout",
     "output_type": "stream",
     "text": [
      "target1 arg1\n"
     ]
    }
   ],
   "source": [
    "!make target1 ARG1=arg1"
   ]
  },
  {
   "cell_type": "code",
   "execution_count": 9,
   "id": "3d114bb2-dfdf-44c4-8360-3db10e759259",
   "metadata": {},
   "outputs": [
    {
     "name": "stdout",
     "output_type": "stream",
     "text": [
      "target1 arg1\n",
      "target2 \n"
     ]
    }
   ],
   "source": [
    "# oops no es ARG1 es ARG2\n",
    "!make target2 ARG1=arg1"
   ]
  },
  {
   "cell_type": "code",
   "execution_count": 10,
   "id": "fa6d7310-3520-413a-b64c-859d40c947d5",
   "metadata": {},
   "outputs": [
    {
     "name": "stdout",
     "output_type": "stream",
     "text": [
      "Usage: make [options] [target] ...\n",
      "Options:\n",
      "  -b, -m                      Ignored for compatibility.\n",
      "  -B, --always-make           Unconditionally make all targets.\n",
      "  -C DIRECTORY, --directory=DIRECTORY\n",
      "                              Change to DIRECTORY before doing anything.\n",
      "  -d                          Print lots of debugging information.\n",
      "  --debug[=FLAGS]             Print various types of debugging information.\n",
      "  -e, --environment-overrides\n",
      "                              Environment variables override makefiles.\n",
      "  -E STRING, --eval=STRING    Evaluate STRING as a makefile statement.\n",
      "  -f FILE, --file=FILE, --makefile=FILE\n",
      "                              Read FILE as a makefile.\n",
      "  -h, --help                  Print this message and exit.\n",
      "  -i, --ignore-errors         Ignore errors from recipes.\n",
      "  -I DIRECTORY, --include-dir=DIRECTORY\n",
      "                              Search DIRECTORY for included makefiles.\n",
      "  -j [N], --jobs[=N]          Allow N jobs at once; infinite jobs with no arg.\n",
      "  -k, --keep-going            Keep going when some targets can't be made.\n",
      "  -l [N], --load-average[=N], --max-load[=N]\n",
      "                              Don't start multiple jobs unless load is below N.\n",
      "  -L, --check-symlink-times   Use the latest mtime between symlinks and target.\n",
      "  -n, --just-print, --dry-run, --recon\n",
      "                              Don't actually run any recipe; just print them.\n",
      "  -o FILE, --old-file=FILE, --assume-old=FILE\n",
      "                              Consider FILE to be very old and don't remake it.\n",
      "  -O[TYPE], --output-sync[=TYPE]\n",
      "                              Synchronize output of parallel jobs by TYPE.\n",
      "  -p, --print-data-base       Print make's internal database.\n",
      "  -q, --question              Run no recipe; exit status says if up to date.\n",
      "  -r, --no-builtin-rules      Disable the built-in implicit rules.\n",
      "  -R, --no-builtin-variables  Disable the built-in variable settings.\n",
      "  -s, --silent, --quiet       Don't echo recipes.\n",
      "  --no-silent                 Echo recipes (disable --silent mode).\n",
      "  -S, --no-keep-going, --stop\n",
      "                              Turns off -k.\n",
      "  -t, --touch                 Touch targets instead of remaking them.\n",
      "  --trace                     Print tracing information.\n",
      "  -v, --version               Print the version number of make and exit.\n",
      "  -w, --print-directory       Print the current directory.\n",
      "  --no-print-directory        Turn off -w, even if it was turned on implicitly.\n",
      "  -W FILE, --what-if=FILE, --new-file=FILE, --assume-new=FILE\n",
      "                              Consider FILE to be infinitely new.\n",
      "  --warn-undefined-variables  Warn when an undefined variable is referenced.\n",
      "\n",
      "This program built for x86_64-pc-linux-gnu\n",
      "Report bugs to <bug-make@gnu.org>\n"
     ]
    }
   ],
   "source": [
    "# let's check check the help\n",
    "!make --help"
   ]
  },
  {
   "cell_type": "markdown",
   "id": "0868cbb9-dae4-431e-be80-14c8f2700356",
   "metadata": {},
   "source": [
    "No hay ninguna información de nuestros targets :("
   ]
  },
  {
   "cell_type": "markdown",
   "id": "6428778c-a132-4590-b77a-4fcf6546ab45",
   "metadata": {},
   "source": [
    "### Let's play with Makim!"
   ]
  },
  {
   "cell_type": "code",
   "execution_count": 11,
   "id": "db5a7af7-1afe-4847-832a-898f1d09634b",
   "metadata": {},
   "outputs": [
    {
     "name": "stdout",
     "output_type": "stream",
     "text": [
      "Overwriting .makim.yaml\n"
     ]
    }
   ],
   "source": [
    "%%writefile .makim.yaml\n",
    "version: 1\n",
    "groups:\n",
    "  main:\n",
    "    help: This is the main group, let's have fun\n",
    "    targets:\n",
    "      favorite-food:\n",
    "        help: What is your favorite food?\n",
    "        args:\n",
    "          food:\n",
    "            help: the name of the food\n",
    "            type: string\n",
    "            required: true\n",
    "        run: |\n",
    "          echo \"my favorite food is {{ args.food }}\"\n",
    "      favorite-dessert:\n",
    "        help: What is your favorite dessert?\n",
    "        dependencies:\n",
    "          - target: main.favorite-food\n",
    "            args:\n",
    "              food: pizza\n",
    "          - target: main.favorite-food\n",
    "            args:\n",
    "              food: lasagna\n",
    "        args:\n",
    "          dessert:\n",
    "            help: What is your favorite dessert?\n",
    "            type: string\n",
    "            required: false\n",
    "            default: tiramisu\n",
    "        run: |\n",
    "          echo \"my favorite dessert is {{ args.dessert }}\""
   ]
  },
  {
   "cell_type": "markdown",
   "id": "f16936de-d6fc-4240-9cbf-84b0ff2a3bb8",
   "metadata": {},
   "source": [
    "Problemas con el format yaml? \n",
    "Verifique tu archivo con https://www.yamllint.com/"
   ]
  },
  {
   "cell_type": "markdown",
   "id": "41e21213-19e6-466c-a7bd-2b12c67d1cf5",
   "metadata": {},
   "source": [
    "**Cuáles son los targets disponibles?**"
   ]
  },
  {
   "cell_type": "code",
   "execution_count": 12,
   "id": "638fc06b-96b1-4287-afae-d0cac578da43",
   "metadata": {},
   "outputs": [
    {
     "name": "stdout",
     "output_type": "stream",
     "text": [
      "usage: Makim [--help] [--version] [--verbose] [--dry-run]\n",
      "             [--makim-file MAKIM_FILE]\n",
      "             [target]\n",
      "\n",
      "Makim is a tool that helps you to organize and simplify your helper commands.\n",
      "\n",
      "positional arguments:\n",
      "  target\n",
      "    Specify the target command to be performed. Options are:\n",
      "    \n",
      "    main:\n",
      "    -----\n",
      "      main.favorite-food => What is your favorite food?\n",
      "        ARGS:\n",
      "          --food: (string) the name of the food\n",
      "      main.favorite-dessert => What is your favorite dessert?\n",
      "        ARGS:\n",
      "          --dessert: (string) What is your favorite dessert?\n",
      "\n",
      "options:\n",
      "  --help, -h\n",
      "    Show the help menu\n",
      "  --version\n",
      "    Show the version of the installed Makim tool.\n",
      "  --verbose\n",
      "    Show the commands to be executed.\n",
      "  --dry-run\n",
      "    Show the commands but don't execute them.\n",
      "  --makim-file MAKIM_FILE\n",
      "    Specify a custom location for the makim file.\n",
      "\n",
      "If you have any problem, open an issue at: https://github.com/osl-incubator/makim\n"
     ]
    }
   ],
   "source": [
    "!makim --help"
   ]
  },
  {
   "cell_type": "code",
   "execution_count": 13,
   "id": "77602d9d-c8db-4ae8-b442-38cd9af83876",
   "metadata": {},
   "outputs": [
    {
     "name": "stdout",
     "output_type": "stream",
     "text": [
      "\u001b[31m [EE] The argument `food` is set as required. Please, provide that argument to proceed. \u001b[39m\n"
     ]
    }
   ],
   "source": [
    "!makim main.favorite-food"
   ]
  },
  {
   "cell_type": "code",
   "execution_count": 14,
   "id": "148c6f6e-b7e4-4824-b188-1d0cdd638ee1",
   "metadata": {},
   "outputs": [
    {
     "name": "stdout",
     "output_type": "stream",
     "text": [
      "my favorite food is quesumacha\n"
     ]
    }
   ],
   "source": [
    "!makim main.favorite-food --food quesumacha"
   ]
  },
  {
   "cell_type": "code",
   "execution_count": 15,
   "id": "46d952fa-14a4-4f66-ac8b-5371aef0e657",
   "metadata": {},
   "outputs": [
    {
     "name": "stdout",
     "output_type": "stream",
     "text": [
      "my favorite food is pizza\n",
      "my favorite food is lasagna\n",
      "my favorite dessert is tiramisu\n"
     ]
    }
   ],
   "source": [
    "!makim main.favorite-dessert"
   ]
  },
  {
   "cell_type": "code",
   "execution_count": 16,
   "id": "4054fae9-9a98-4f8b-85c2-a70704c9f672",
   "metadata": {},
   "outputs": [
    {
     "name": "stdout",
     "output_type": "stream",
     "text": [
      "my favorite food is pizza\n",
      "my favorite food is lasagna\n",
      "my favorite dessert is ice cream\n"
     ]
    }
   ],
   "source": [
    "!makim main.favorite-dessert --dessert \"ice cream\""
   ]
  },
  {
   "cell_type": "markdown",
   "id": "d520fd89-b0f4-4285-9355-bb6cd9b73719",
   "metadata": {},
   "source": [
    "### Features\n",
    "\n",
    "Let's have fun!"
   ]
  },
  {
   "cell_type": "code",
   "execution_count": 17,
   "id": "5f555bf3-e9d1-41f5-973f-c0c77f9051d0",
   "metadata": {},
   "outputs": [
    {
     "name": "stdout",
     "output_type": "stream",
     "text": [
      "Overwriting .env\n"
     ]
    }
   ],
   "source": [
    "%%writefile .env\n",
    "ENV=dev\n",
    "SERVICES=s1,s2,s3"
   ]
  },
  {
   "cell_type": "code",
   "execution_count": 18,
   "id": "302337a7-8605-453f-a032-1907625a8090",
   "metadata": {},
   "outputs": [
    {
     "name": "stdout",
     "output_type": "stream",
     "text": [
      "Overwriting docker-compose.yaml\n"
     ]
    }
   ],
   "source": [
    "%%writefile docker-compose.yaml\n",
    "version: \"3.9\"\n",
    "services:\n",
    "  s1:\n",
    "    image: python:3.11\n",
    "    command: \"python -m http.server 18000\"\n",
    "  s2:\n",
    "    image: python:3.11\n",
    "    command: \"python -m http.server 18001\"\n",
    "  s3:\n",
    "    image: python:3.11\n",
    "    command: \"python -m http.server 18002\""
   ]
  },
  {
   "cell_type": "markdown",
   "id": "a52730e2-f826-4e93-8924-5f4a16c61ded",
   "metadata": {},
   "source": [
    "NOTA: necesitamos instalar docker-compose. Para ello, instalamos el paquete compose-go que es un wrapper para docker-compose 2 escrito go."
   ]
  },
  {
   "cell_type": "code",
   "execution_count": 19,
   "id": "82c781b2-06fd-4037-bd33-8b22c4bd6afb",
   "metadata": {},
   "outputs": [],
   "source": [
    "# !pip install compose-go"
   ]
  },
  {
   "cell_type": "code",
   "execution_count": 20,
   "id": "c0d773bd-5781-4a0b-bd77-9dea0970f09e",
   "metadata": {},
   "outputs": [
    {
     "name": "stdout",
     "output_type": "stream",
     "text": [
      "Overwriting .makim.yaml\n"
     ]
    }
   ],
   "source": [
    "%%writefile .makim.yaml\n",
    "version: 1\n",
    "\n",
    "groups:\n",
    "  docker:\n",
    "    help: control the docker from makim\n",
    "    targets:\n",
    "      up:\n",
    "        help: Start the services\n",
    "        run: |\n",
    "          docker compose up -d\n",
    "      stop:\n",
    "        help: Stop the services\n",
    "        run: |\n",
    "          docker compose stop\n",
    "\n",
    "      config-with-bash:\n",
    "        help: show information for the services using bash and using jinja2\n",
    "        env-file:\n",
    "          .env\n",
    "        shell: bash\n",
    "        run: |\n",
    "          {% for service in env.SERVICES.split(\",\") %}\n",
    "          docker compose config \"{{service}}\"\n",
    "          {% endfor %}\n",
    "\n",
    "      config-with-xonsh:\n",
    "        help: show information for the services using xonsh (https://xon.sh/bash_to_xsh.html?highlight=env)\n",
    "        env-file:\n",
    "          .env\n",
    "        run: |\n",
    "          for service in {{ env.SERVICES.split(\",\") }}:\n",
    "            docker compose config @(service)\n",
    "\n",
    "  path:\n",
    "    help: targets that handles path\n",
    "    targets:\n",
    "      workdir:\n",
    "        help: shows how to use the working directory\n",
    "        working-directory: /tmp\n",
    "        run:\n",
    "          pwd\n",
    "\n",
    "  python:\n",
    "    help: \"some commands using python as interpreter\"\n",
    "    shell: python\n",
    "    targets:\n",
    "      test-a-gt-b:\n",
    "        help: target that shows how to use assert\n",
    "        args:\n",
    "          a:\n",
    "            help: Argument a\n",
    "            type: int\n",
    "            required: true\n",
    "          b:\n",
    "            help: Argument b\n",
    "            type: int\n",
    "            required: true\n",
    "        run: assert {{ args.a }} > {{ args.b }}\n",
    "      debug:\n",
    "        help: target that shows how to use assert\n",
    "        run: |\n",
    "          breakpoint()\n",
    "          print(\"breakpoint works!\")\n",
    "              "
   ]
  },
  {
   "cell_type": "code",
   "execution_count": 21,
   "id": "faba9680-e213-4762-afc2-fd9904e0814f",
   "metadata": {},
   "outputs": [
    {
     "name": "stdout",
     "output_type": "stream",
     "text": [
      "usage: Makim [--help] [--version] [--verbose] [--dry-run]\n",
      "             [--makim-file MAKIM_FILE]\n",
      "             [target]\n",
      "\n",
      "Makim is a tool that helps you to organize and simplify your helper commands.\n",
      "\n",
      "positional arguments:\n",
      "  target\n",
      "    Specify the target command to be performed. Options are:\n",
      "    \n",
      "    docker:\n",
      "    -------\n",
      "      docker.up => Start the services\n",
      "      docker.stop => Stop the services\n",
      "      docker.config-with-bash => show information for the services using bash and using jinja2\n",
      "      docker.config-with-xonsh => show information for the services using xonsh (https://xon.sh/bash_to_xsh.html?highlight=env)\n",
      "    \n",
      "    path:\n",
      "    -----\n",
      "      path.workdir => shows how to use the working directory\n",
      "    \n",
      "    python:\n",
      "    -------\n",
      "      python.test-a-gt-b => target that shows how to use assert\n",
      "        ARGS:\n",
      "          --a: (int) Argument a\n",
      "          --b: (int) Argument b\n",
      "      python.debug => target that shows how to use assert\n",
      "\n",
      "options:\n",
      "  --help, -h\n",
      "    Show the help menu\n",
      "  --version\n",
      "    Show the version of the installed Makim tool.\n",
      "  --verbose\n",
      "    Show the commands to be executed.\n",
      "  --dry-run\n",
      "    Show the commands but don't execute them.\n",
      "  --makim-file MAKIM_FILE\n",
      "    Specify a custom location for the makim file.\n",
      "\n",
      "If you have any problem, open an issue at: https://github.com/osl-incubator/makim\n"
     ]
    }
   ],
   "source": [
    "!makim --help"
   ]
  },
  {
   "cell_type": "code",
   "execution_count": 22,
   "id": "aa1f72fe-c2c6-46b0-a2c1-b81bd55e033b",
   "metadata": {
    "scrolled": true
   },
   "outputs": [
    {
     "name": "stdout",
     "output_type": "stream",
     "text": [
      "\u001b[1A\u001b[1B\u001b[0G\u001b[?25l[+] Running 3/0\n",
      " \u001b[32m✔\u001b[0m Container pyconbolivia2023-s1-1  \u001b[32mR...\u001b[0m                                   \u001b[34m0.0s \u001b[0m\n",
      " \u001b[32m✔\u001b[0m Container pyconbolivia2023-s2-1  \u001b[32mR...\u001b[0m                                   \u001b[34m0.0s \u001b[0m\n",
      " \u001b[32m✔\u001b[0m Container pyconbolivia2023-s3-1  \u001b[32mR...\u001b[0m                                   \u001b[34m0.0s \u001b[0m\n",
      "\u001b[?25h"
     ]
    }
   ],
   "source": [
    "!makim docker.up"
   ]
  },
  {
   "cell_type": "code",
   "execution_count": 23,
   "id": "6962f0b6-e968-4d5a-bd31-7b0232dd8c9e",
   "metadata": {},
   "outputs": [
    {
     "name": "stdout",
     "output_type": "stream",
     "text": [
      "name: pyconbolivia2023\n",
      "services:\n",
      "  s1:\n",
      "    command:\n",
      "    - python\n",
      "    - -m\n",
      "    - http.server\n",
      "    - \"18000\"\n",
      "    image: python:3.11\n",
      "    networks:\n",
      "      default: null\n",
      "networks:\n",
      "  default:\n",
      "    name: pyconbolivia2023_default\n",
      "name: pyconbolivia2023\n",
      "services:\n",
      "  s2:\n",
      "    command:\n",
      "    - python\n",
      "    - -m\n",
      "    - http.server\n",
      "    - \"18001\"\n",
      "    image: python:3.11\n",
      "    networks:\n",
      "      default: null\n",
      "networks:\n",
      "  default:\n",
      "    name: pyconbolivia2023_default\n",
      "name: pyconbolivia2023\n",
      "services:\n",
      "  s3:\n",
      "    command:\n",
      "    - python\n",
      "    - -m\n",
      "    - http.server\n",
      "    - \"18002\"\n",
      "    image: python:3.11\n",
      "    networks:\n",
      "      default: null\n",
      "networks:\n",
      "  default:\n",
      "    name: pyconbolivia2023_default\n"
     ]
    }
   ],
   "source": [
    "!makim docker.config-with-bash"
   ]
  },
  {
   "cell_type": "code",
   "execution_count": 24,
   "id": "e90c60b1-6b3b-417c-9ef1-06e24e93e1f4",
   "metadata": {},
   "outputs": [
    {
     "name": "stdout",
     "output_type": "stream",
     "text": [
      "name: pyconbolivia2023\n",
      "services:\n",
      "  s1:\n",
      "    command:\n",
      "    - python\n",
      "    - -m\n",
      "    - http.server\n",
      "    - \"18000\"\n",
      "    image: python:3.11\n",
      "    networks:\n",
      "      default: null\n",
      "networks:\n",
      "  default:\n",
      "    name: pyconbolivia2023_default\n",
      "name: pyconbolivia2023\n",
      "services:\n",
      "  s2:\n",
      "    command:\n",
      "    - python\n",
      "    - -m\n",
      "    - http.server\n",
      "    - \"18001\"\n",
      "    image: python:3.11\n",
      "    networks:\n",
      "      default: null\n",
      "networks:\n",
      "  default:\n",
      "    name: pyconbolivia2023_default\n",
      "name: pyconbolivia2023\n",
      "services:\n",
      "  s3:\n",
      "    command:\n",
      "    - python\n",
      "    - -m\n",
      "    - http.server\n",
      "    - \"18002\"\n",
      "    image: python:3.11\n",
      "    networks:\n",
      "      default: null\n",
      "networks:\n",
      "  default:\n",
      "    name: pyconbolivia2023_default\n"
     ]
    }
   ],
   "source": [
    "!makim docker.config-with-xonsh"
   ]
  },
  {
   "cell_type": "code",
   "execution_count": 25,
   "id": "13161518-3acc-427b-ac3d-8da8f6714ba7",
   "metadata": {},
   "outputs": [
    {
     "name": "stdout",
     "output_type": "stream",
     "text": [
      "/tmp\n"
     ]
    }
   ],
   "source": [
    "!makim path.workdir"
   ]
  },
  {
   "cell_type": "code",
   "execution_count": 26,
   "id": "1001388d-a8d8-40a1-949d-cdaae9862422",
   "metadata": {},
   "outputs": [
    {
     "name": "stdout",
     "output_type": "stream",
     "text": [
      "\u001b[31m [EE] The argument `a` is set as required. Please, provide that argument to proceed. \u001b[39m\n"
     ]
    }
   ],
   "source": [
    "!makim python.test-a-gt-b"
   ]
  },
  {
   "cell_type": "code",
   "execution_count": 27,
   "id": "9e00a3f3-65a7-4a7e-b2ec-c24fb59d665c",
   "metadata": {},
   "outputs": [
    {
     "name": "stdout",
     "output_type": "stream",
     "text": [
      "Traceback (most recent call last):\n",
      "  File \"/tmp/tmp7bl1c4__.makim\", line 1, in <module>\n",
      "    assert 2 > 3\n",
      "           ^^^^^\n",
      "AssertionError\n",
      "\u001b[31m \n",
      "\n",
      "  RAN: /home/xmn/miniforge3/envs/pyconbo2023/bin/python /tmp/tmp7bl1c4__.makim\n",
      "\n",
      "  STDOUT:\n",
      "\n",
      "\n",
      "  STDERR:\n",
      " \u001b[39m\n"
     ]
    }
   ],
   "source": [
    "!makim python.test-a-gt-b --a 2 --b 3"
   ]
  },
  {
   "cell_type": "code",
   "execution_count": 28,
   "id": "4c5e4e40-bcde-4216-b345-cccd2996278f",
   "metadata": {},
   "outputs": [],
   "source": [
    "!makim python.test-a-gt-b --a 2 --b 1"
   ]
  },
  {
   "cell_type": "code",
   "execution_count": 29,
   "id": "4643235c-a9ef-44ce-b8fd-17218a4cf7be",
   "metadata": {},
   "outputs": [
    {
     "name": "stdout",
     "output_type": "stream",
     "text": [
      "/mnt/sda1/storage/dev/opensciencelabs/main/talks/pyconbolivia2023\n"
     ]
    }
   ],
   "source": [
    "!pwd"
   ]
  },
  {
   "cell_type": "code",
   "execution_count": 30,
   "id": "cb978725-aeb0-4dcb-a5be-36fc7012e753",
   "metadata": {},
   "outputs": [],
   "source": [
    "# %%debug\n",
    "# makim python.debug"
   ]
  }
 ],
 "metadata": {
  "kernelspec": {
   "display_name": "Python 3 (ipykernel)",
   "language": "python",
   "name": "python3"
  },
  "language_info": {
   "codemirror_mode": {
    "name": "ipython",
    "version": 3
   },
   "file_extension": ".py",
   "mimetype": "text/x-python",
   "name": "python",
   "nbconvert_exporter": "python",
   "pygments_lexer": "ipython3",
   "version": "3.11.7"
  }
 },
 "nbformat": 4,
 "nbformat_minor": 5
}
