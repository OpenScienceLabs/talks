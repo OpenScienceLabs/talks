{
 "cells": [
  {
   "cell_type": "markdown",
   "id": "515f4cd9-7127-4ac9-964c-d342bc91c257",
   "metadata": {},
   "source": [
    "# Optimizando el Flujo de Trabajo en Desarrollo y DevOps con Makim"
   ]
  },
  {
   "cell_type": "markdown",
   "id": "8621c19a-85e4-4a77-a403-efaa2378fbba",
   "metadata": {},
   "source": [
    "![](https://raw.githubusercontent.com/osl-incubator/makim/main/artwork/v1/logo.png)"
   ]
  },
  {
   "cell_type": "markdown",
   "id": "331d8356-0d51-4382-a124-f428d5b115d1",
   "metadata": {},
   "source": [
    "## Repositorio\n",
    "\n",
    "https://github.com/osl-incubator/makim"
   ]
  },
  {
   "cell_type": "markdown",
   "id": "80ff8d05-9dce-4f6f-8ac7-e733c0a9a805",
   "metadata": {},
   "source": [
    "## Setup"
   ]
  },
  {
   "cell_type": "code",
   "execution_count": null,
   "id": "5bb71c79-4880-4333-895d-d873ab162ec3",
   "metadata": {},
   "outputs": [],
   "source": [
    "# !pip install \"makim==1.9.1\""
   ]
  },
  {
   "cell_type": "markdown",
   "id": "9edee1ce-e194-490c-b7ce-b33a6b447d99",
   "metadata": {},
   "source": [
    "## Makim"
   ]
  },
  {
   "cell_type": "markdown",
   "id": "22e67bf4-dafe-4716-8561-fd7c8381fbea",
   "metadata": {},
   "source": [
    "Problemas que intenta solucionar makim:\n",
    "\n",
    "* integración con archivos de entorno\n",
    "* usa un formato amigable (yaml) para la declaración de los targets (scripts) y sus dependencias.\n",
    "* permite uso de argumentos\n",
    "* documentación (help) como parte de la estructura\n",
    "* permite integración con aplicaciones shells y otros lenguajes de programación\n",
    "* agrupación por grupos y integración de targets de distintos grupos"
   ]
  },
  {
   "cell_type": "code",
   "execution_count": null,
   "id": "ca56b3d8-df19-48eb-9f56-c0d8b38d206e",
   "metadata": {},
   "outputs": [],
   "source": [
    "%%writefile Makefile\n",
    "\n",
    "ARG1:=\n",
    "ARG2:=\n",
    "\n",
    "target1:\n",
    "        @echo \"target1 $(ARG1)\"\n",
    "\n",
    "target2: target1\n",
    "        @echo \"target2 $(ARG2)\""
   ]
  },
  {
   "cell_type": "code",
   "execution_count": null,
   "id": "25e0cb62-29b9-4c8d-a217-5bf2a0d4e5ac",
   "metadata": {},
   "outputs": [],
   "source": [
    "!make target1"
   ]
  },
  {
   "cell_type": "code",
   "execution_count": null,
   "id": "9d3449a5-961c-4fc6-a795-43bffea45c58",
   "metadata": {},
   "outputs": [],
   "source": [
    "! sed -i 's/        /\\t/g' Makefile"
   ]
  },
  {
   "cell_type": "code",
   "execution_count": null,
   "id": "0a48a536-2743-4556-877d-22d6d21a02a1",
   "metadata": {},
   "outputs": [],
   "source": [
    "!make target1"
   ]
  },
  {
   "cell_type": "code",
   "execution_count": null,
   "id": "1baf80a9-17f4-4d02-ac91-d6773f2550df",
   "metadata": {},
   "outputs": [],
   "source": [
    "!make target2"
   ]
  },
  {
   "cell_type": "code",
   "execution_count": null,
   "id": "c9e6af83-2f0b-4e9f-a8aa-e3ad3b54205c",
   "metadata": {},
   "outputs": [],
   "source": [
    "# oops no es ARGS1 es ARG1\n",
    "!make target1 ARGS1=arg1"
   ]
  },
  {
   "cell_type": "code",
   "execution_count": null,
   "id": "cbb61348-f74e-441e-a1a2-e4e567df49ad",
   "metadata": {},
   "outputs": [],
   "source": [
    "!make target1 ARG1=arg1"
   ]
  },
  {
   "cell_type": "code",
   "execution_count": null,
   "id": "3d114bb2-dfdf-44c4-8360-3db10e759259",
   "metadata": {},
   "outputs": [],
   "source": [
    "# oops no es ARG1 es ARG2\n",
    "!make target2 ARG1=arg1"
   ]
  },
  {
   "cell_type": "code",
   "execution_count": null,
   "id": "fa6d7310-3520-413a-b64c-859d40c947d5",
   "metadata": {},
   "outputs": [],
   "source": [
    "# let's check check the help\n",
    "!make --help"
   ]
  },
  {
   "cell_type": "markdown",
   "id": "0868cbb9-dae4-431e-be80-14c8f2700356",
   "metadata": {},
   "source": [
    "No hay ninguna información de nuestros targets :("
   ]
  },
  {
   "cell_type": "markdown",
   "id": "6428778c-a132-4590-b77a-4fcf6546ab45",
   "metadata": {},
   "source": [
    "### Let's play with Makim!"
   ]
  },
  {
   "cell_type": "code",
   "execution_count": null,
   "id": "db5a7af7-1afe-4847-832a-898f1d09634b",
   "metadata": {},
   "outputs": [],
   "source": [
    "%%writefile .makim.yaml\n",
    "version: 1\n",
    "groups:\n",
    "  main:\n",
    "    help: This is the main group, let's have fun\n",
    "    targets:\n",
    "      favorite-food:\n",
    "        help: What is your favorite food?\n",
    "        args:\n",
    "          food:\n",
    "            help: the name of the food\n",
    "            type: string\n",
    "            required: true\n",
    "        run: |\n",
    "          echo \"my favorite food is {{ args.food }}\"\n",
    "      favorite-dessert:\n",
    "        help: What is your favorite dessert?\n",
    "        dependencies:\n",
    "          - target: main.favorite-food\n",
    "            args:\n",
    "              food: pizza\n",
    "          - target: main.favorite-food\n",
    "            args:\n",
    "              food: lasagna\n",
    "        args:\n",
    "          dessert:\n",
    "            help: What is your favorite dessert?\n",
    "            type: string\n",
    "            required: false\n",
    "            default: tiramisu\n",
    "        run: |\n",
    "          echo \"my favorite dessert is {{ args.dessert }}\""
   ]
  },
  {
   "cell_type": "markdown",
   "id": "f16936de-d6fc-4240-9cbf-84b0ff2a3bb8",
   "metadata": {},
   "source": [
    "Problemas con el format yaml? \n",
    "Verifique tu archivo con https://www.yamllint.com/"
   ]
  },
  {
   "cell_type": "markdown",
   "id": "41e21213-19e6-466c-a7bd-2b12c67d1cf5",
   "metadata": {},
   "source": [
    "**Cuáles son los targets disponibles?**"
   ]
  },
  {
   "cell_type": "code",
   "execution_count": null,
   "id": "638fc06b-96b1-4287-afae-d0cac578da43",
   "metadata": {},
   "outputs": [],
   "source": [
    "!makim --help"
   ]
  },
  {
   "cell_type": "code",
   "execution_count": null,
   "id": "77602d9d-c8db-4ae8-b442-38cd9af83876",
   "metadata": {},
   "outputs": [],
   "source": [
    "!makim main.favorite-food"
   ]
  },
  {
   "cell_type": "code",
   "execution_count": null,
   "id": "148c6f6e-b7e4-4824-b188-1d0cdd638ee1",
   "metadata": {},
   "outputs": [],
   "source": [
    "!makim main.favorite-food --food quesumacha"
   ]
  },
  {
   "cell_type": "code",
   "execution_count": null,
   "id": "46d952fa-14a4-4f66-ac8b-5371aef0e657",
   "metadata": {},
   "outputs": [],
   "source": [
    "!makim main.favorite-dessert"
   ]
  },
  {
   "cell_type": "code",
   "execution_count": null,
   "id": "4054fae9-9a98-4f8b-85c2-a70704c9f672",
   "metadata": {},
   "outputs": [],
   "source": [
    "!makim main.favorite-dessert --dessert \"ice cream\""
   ]
  },
  {
   "cell_type": "markdown",
   "id": "d520fd89-b0f4-4285-9355-bb6cd9b73719",
   "metadata": {},
   "source": [
    "### Features\n",
    "\n",
    "Let's have fun!"
   ]
  },
  {
   "cell_type": "code",
   "execution_count": null,
   "id": "5f555bf3-e9d1-41f5-973f-c0c77f9051d0",
   "metadata": {},
   "outputs": [],
   "source": [
    "%%writefile .env\n",
    "ENV=dev\n",
    "SERVICES=s1,s2,s3"
   ]
  },
  {
   "cell_type": "code",
   "execution_count": null,
   "id": "302337a7-8605-453f-a032-1907625a8090",
   "metadata": {},
   "outputs": [],
   "source": [
    "%%writefile docker-compose.yaml\n",
    "version: \"3.9\"\n",
    "services:\n",
    "  s1:\n",
    "    image: python:3.11\n",
    "    command: \"python -m http.server 18000\"\n",
    "  s2:\n",
    "    image: python:3.11\n",
    "    command: \"python -m http.server 18001\"\n",
    "  s3:\n",
    "    image: python:3.11\n",
    "    command: \"python -m http.server 18002\""
   ]
  },
  {
   "cell_type": "markdown",
   "id": "a52730e2-f826-4e93-8924-5f4a16c61ded",
   "metadata": {},
   "source": [
    "NOTA: necesitamos instalar docker-compose. Para ello, instalamos el paquete compose-go que es un wrapper para docker-compose 2 escrito go."
   ]
  },
  {
   "cell_type": "code",
   "execution_count": null,
   "id": "82c781b2-06fd-4037-bd33-8b22c4bd6afb",
   "metadata": {},
   "outputs": [],
   "source": [
    "# !pip install compose-go"
   ]
  },
  {
   "cell_type": "code",
   "execution_count": null,
   "id": "c0d773bd-5781-4a0b-bd77-9dea0970f09e",
   "metadata": {},
   "outputs": [],
   "source": [
    "%%writefile .makim.yaml\n",
    "version: 1\n",
    "\n",
    "groups:\n",
    "  docker:\n",
    "    help: control the docker from makim\n",
    "    targets:\n",
    "      up:\n",
    "        help: Start the services\n",
    "        run: |\n",
    "          docker compose up -d\n",
    "      stop:\n",
    "        help: Stop the services\n",
    "        run: |\n",
    "          docker compose stop\n",
    "\n",
    "      config-with-bash:\n",
    "        help: show information for the services using bash and using jinja2\n",
    "        env-file:\n",
    "          .env\n",
    "        shell: bash\n",
    "        run: |\n",
    "          {% for service in env.SERVICES.split(\",\") %}\n",
    "          docker compose config \"{{service}}\"\n",
    "          {% endfor %}\n",
    "\n",
    "      config-with-xonsh:\n",
    "        help: show information for the services using xonsh (https://xon.sh/bash_to_xsh.html?highlight=env)\n",
    "        env-file:\n",
    "          .env\n",
    "        run: |\n",
    "          for service in {{ env.SERVICES.split(\",\") }}:\n",
    "            docker compose config @(service)\n",
    "\n",
    "  path:\n",
    "    help: targets that handles path\n",
    "    targets:\n",
    "      workdir:\n",
    "        help: shows how to use the working directory\n",
    "        working-directory: /tmp\n",
    "        run:\n",
    "          pwd\n",
    "\n",
    "  python:\n",
    "    help: \"some commands using python as interpreter\"\n",
    "    shell: python\n",
    "    targets:\n",
    "      test-a-gt-b:\n",
    "        help: target that shows how to use assert\n",
    "        args:\n",
    "          a:\n",
    "            help: Argument a\n",
    "            type: int\n",
    "            required: true\n",
    "          b:\n",
    "            help: Argument b\n",
    "            type: int\n",
    "            required: true\n",
    "        run: assert {{ args.a }} > {{ args.b }}\n",
    "      debug:\n",
    "        help: target that shows how to use assert\n",
    "        run: |\n",
    "          breakpoint()\n",
    "          print(\"breakpoint works!\")\n",
    "              "
   ]
  },
  {
   "cell_type": "code",
   "execution_count": null,
   "id": "faba9680-e213-4762-afc2-fd9904e0814f",
   "metadata": {},
   "outputs": [],
   "source": [
    "!makim --help"
   ]
  },
  {
   "cell_type": "code",
   "execution_count": null,
   "id": "aa1f72fe-c2c6-46b0-a2c1-b81bd55e033b",
   "metadata": {
    "scrolled": true
   },
   "outputs": [],
   "source": [
    "!makim docker.up"
   ]
  },
  {
   "cell_type": "code",
   "execution_count": null,
   "id": "6962f0b6-e968-4d5a-bd31-7b0232dd8c9e",
   "metadata": {},
   "outputs": [],
   "source": [
    "!makim docker.config-with-bash"
   ]
  },
  {
   "cell_type": "code",
   "execution_count": null,
   "id": "e90c60b1-6b3b-417c-9ef1-06e24e93e1f4",
   "metadata": {},
   "outputs": [],
   "source": [
    "!makim docker.config-with-xonsh"
   ]
  },
  {
   "cell_type": "code",
   "execution_count": null,
   "id": "13161518-3acc-427b-ac3d-8da8f6714ba7",
   "metadata": {},
   "outputs": [],
   "source": [
    "!makim path.workdir"
   ]
  },
  {
   "cell_type": "code",
   "execution_count": null,
   "id": "1001388d-a8d8-40a1-949d-cdaae9862422",
   "metadata": {},
   "outputs": [],
   "source": [
    "!makim python.test-a-gt-b"
   ]
  },
  {
   "cell_type": "code",
   "execution_count": null,
   "id": "9e00a3f3-65a7-4a7e-b2ec-c24fb59d665c",
   "metadata": {},
   "outputs": [],
   "source": [
    "!makim python.test-a-gt-b --a 2 --b 3"
   ]
  },
  {
   "cell_type": "code",
   "execution_count": null,
   "id": "4c5e4e40-bcde-4216-b345-cccd2996278f",
   "metadata": {},
   "outputs": [],
   "source": [
    "!makim python.test-a-gt-b --a 2 --b 1"
   ]
  },
  {
   "cell_type": "code",
   "execution_count": null,
   "id": "4643235c-a9ef-44ce-b8fd-17218a4cf7be",
   "metadata": {},
   "outputs": [],
   "source": [
    "!pwd"
   ]
  },
  {
   "cell_type": "code",
   "execution_count": null,
   "id": "cb978725-aeb0-4dcb-a5be-36fc7012e753",
   "metadata": {},
   "outputs": [],
   "source": [
    "# %%debug\n",
    "# makim python.debug"
   ]
  }
 ],
 "metadata": {
  "kernelspec": {
   "display_name": "Python 3 (ipykernel)",
   "language": "python",
   "name": "python3"
  },
  "language_info": {
   "codemirror_mode": {
    "name": "ipython",
    "version": 3
   },
   "file_extension": ".py",
   "mimetype": "text/x-python",
   "name": "python",
   "nbconvert_exporter": "python",
   "pygments_lexer": "ipython3",
   "version": "3.11.7"
  }
 },
 "nbformat": 4,
 "nbformat_minor": 5
}
