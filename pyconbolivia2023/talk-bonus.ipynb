{
 "cells": [
  {
   "cell_type": "markdown",
   "id": "515f4cd9-7127-4ac9-964c-d342bc91c257",
   "metadata": {},
   "source": [
    "# Bonus: Envers (alpha)"
   ]
  },
  {
   "cell_type": "markdown",
   "id": "92f2b115-ffb3-45ed-b827-3311c8578fe1",
   "metadata": {},
   "source": [
    "## Repositorio\n",
    "\n",
    "https://github.com/osl-incubator/envers/"
   ]
  },
  {
   "cell_type": "markdown",
   "id": "80ff8d05-9dce-4f6f-8ac7-e733c0a9a805",
   "metadata": {},
   "source": [
    "## Setup"
   ]
  },
  {
   "cell_type": "code",
   "execution_count": 1,
   "id": "5bb71c79-4880-4333-895d-d873ab162ec3",
   "metadata": {},
   "outputs": [],
   "source": [
    "# !pip install \"envers==0.2\""
   ]
  },
  {
   "cell_type": "markdown",
   "id": "9edee1ce-e194-490c-b7ce-b33a6b447d99",
   "metadata": {},
   "source": [
    "## Envers"
   ]
  },
  {
   "cell_type": "markdown",
   "id": "22e67bf4-dafe-4716-8561-fd7c8381fbea",
   "metadata": {},
   "source": [
    "Problemas que intenta solucionar envers:\n",
    "\n",
    "* pérdida de archivos de variables de entorno: permite almacenar variables de entorno encriptados en el repositorio\n",
    "* creación de multipes archivos de entornos para cada perfil (producción, staging, dev, etc): permite la creación de perfiles de variables de entorno\n",
    "* falta de actualización de variables de entorno: se puede organizar las variables de entorno por versiones"
   ]
  },
  {
   "cell_type": "markdown",
   "id": "3134425d-a9e6-4147-ac19-352c40fcef4d",
   "metadata": {},
   "source": [
    "### Let's play with Envers"
   ]
  },
  {
   "cell_type": "markdown",
   "id": "d520fd89-b0f4-4285-9355-bb6cd9b73719",
   "metadata": {},
   "source": [
    "Let's have fun!"
   ]
  },
  {
   "cell_type": "code",
   "execution_count": 5,
   "id": "4b8d5663-fe34-4dd0-a8b8-7121502bbe74",
   "metadata": {},
   "outputs": [
    {
     "name": "stdout",
     "output_type": "stream",
     "text": [
      "\u001b[1m                                                                                \u001b[0m\n",
      "\u001b[1m \u001b[0m\u001b[1;33mUsage: \u001b[0m\u001b[1menvers [OPTIONS] COMMAND [ARGS]...\u001b[0m\u001b[1m                                     \u001b[0m\u001b[1m \u001b[0m\n",
      "\u001b[1m                                                                                \u001b[0m\n",
      "\u001b[2m╭─\u001b[0m\u001b[2m Options \u001b[0m\u001b[2m───────────────────────────────────────────────────────────────────\u001b[0m\u001b[2m─╮\u001b[0m\n",
      "\u001b[2m│\u001b[0m \u001b[1;36m-\u001b[0m\u001b[1;36m-install\u001b[0m\u001b[1;36m-completion\u001b[0m          Install completion for the current shell.      \u001b[2m│\u001b[0m\n",
      "\u001b[2m│\u001b[0m \u001b[1;36m-\u001b[0m\u001b[1;36m-show\u001b[0m\u001b[1;36m-completion\u001b[0m             Show completion for the current shell, to copy \u001b[2m│\u001b[0m\n",
      "\u001b[2m│\u001b[0m                               it or customize the installation.              \u001b[2m│\u001b[0m\n",
      "\u001b[2m│\u001b[0m \u001b[1;36m-\u001b[0m\u001b[1;36m-help\u001b[0m                        Show this message and exit.                    \u001b[2m│\u001b[0m\n",
      "\u001b[2m╰──────────────────────────────────────────────────────────────────────────────╯\u001b[0m\n",
      "\u001b[2m╭─\u001b[0m\u001b[2m Commands \u001b[0m\u001b[2m──────────────────────────────────────────────────────────────────\u001b[0m\u001b[2m─╮\u001b[0m\n",
      "\u001b[2m│\u001b[0m \u001b[1;36mdeploy             \u001b[0m\u001b[1;36m \u001b[0m Deploy a specific version from the spec file.           \u001b[2m│\u001b[0m\n",
      "\u001b[2m│\u001b[0m \u001b[1;36mdraft              \u001b[0m\u001b[1;36m \u001b[0m Create a new version draft in the spec file.            \u001b[2m│\u001b[0m\n",
      "\u001b[2m│\u001b[0m \u001b[1;36minit               \u001b[0m\u001b[1;36m \u001b[0m Initialize the .envers directory and specs file.        \u001b[2m│\u001b[0m\n",
      "\u001b[2m│\u001b[0m \u001b[1;36mprofile-load       \u001b[0m\u001b[1;36m \u001b[0m Load a specific environment profile to files.           \u001b[2m│\u001b[0m\n",
      "\u001b[2m│\u001b[0m \u001b[1;36mprofile-set        \u001b[0m\u001b[1;36m \u001b[0m Set the profile values for a given spec version.        \u001b[2m│\u001b[0m\n",
      "\u001b[2m│\u001b[0m \u001b[1;36mprofile-versions   \u001b[0m\u001b[1;36m \u001b[0m Return the profile's version.                           \u001b[2m│\u001b[0m\n",
      "\u001b[2m╰──────────────────────────────────────────────────────────────────────────────╯\u001b[0m\n",
      "\n"
     ]
    }
   ],
   "source": [
    "!envers --help"
   ]
  },
  {
   "cell_type": "code",
   "execution_count": 6,
   "id": "5bec245f-8f88-4d05-900f-2c3fd8b810c5",
   "metadata": {},
   "outputs": [
    {
     "name": "stdout",
     "output_type": "stream",
     "text": [
      "\u001b[1m                                                                                \u001b[0m\n",
      "\u001b[1m \u001b[0m\u001b[1;33mUsage: \u001b[0m\u001b[1menvers init [OPTIONS]\u001b[0m\u001b[1m                                                  \u001b[0m\u001b[1m \u001b[0m\n",
      "\u001b[1m                                                                                \u001b[0m\n",
      " Initialize the .envers directory and specs file.                               \n",
      " \u001b[2mInitialize the envers environment at the given path. This includes creating a \u001b[0m \n",
      " \u001b[2m.envers folder and a spec.yaml file within it with default content.\u001b[0m            \n",
      " \u001b[2mParameters \u001b[0m\u001b[1;2;36m----------\u001b[0m\u001b[2m path : str, optional     The directory path where the \u001b[0m   \n",
      " \u001b[2menvers environment will be initialized.     Defaults to the current directory \u001b[0m \n",
      " \u001b[2m(\".\").\u001b[0m                                                                         \n",
      " \u001b[2mReturns \u001b[0m\u001b[1;2;36m-------\u001b[0m\u001b[2m None\u001b[0m                                                           \n",
      "                                                                                \n",
      "\u001b[2m╭─\u001b[0m\u001b[2m Options \u001b[0m\u001b[2m───────────────────────────────────────────────────────────────────\u001b[0m\u001b[2m─╮\u001b[0m\n",
      "\u001b[2m│\u001b[0m \u001b[1;36m-\u001b[0m\u001b[1;36m-path\u001b[0m        \u001b[1;33mTEXT\u001b[0m  \u001b[2m[default: .]\u001b[0m                                             \u001b[2m│\u001b[0m\n",
      "\u001b[2m│\u001b[0m \u001b[1;36m-\u001b[0m\u001b[1;36m-help\u001b[0m        \u001b[1;33m    \u001b[0m  Show this message and exit.                              \u001b[2m│\u001b[0m\n",
      "\u001b[2m╰──────────────────────────────────────────────────────────────────────────────╯\u001b[0m\n",
      "\n"
     ]
    }
   ],
   "source": [
    "!envers init --help"
   ]
  },
  {
   "cell_type": "code",
   "execution_count": 2,
   "id": "4c12aa89-f7c9-44a6-be57-4a40f77de8b2",
   "metadata": {},
   "outputs": [],
   "source": [
    "!envers init"
   ]
  },
  {
   "cell_type": "code",
   "execution_count": 4,
   "id": "2b9c01f3-a7a2-4d22-86c2-d529d6db48a3",
   "metadata": {},
   "outputs": [
    {
     "name": "stdout",
     "output_type": "stream",
     "text": [
      "specs.yaml\n"
     ]
    }
   ],
   "source": [
    "!ls .envers"
   ]
  },
  {
   "cell_type": "code",
   "execution_count": 3,
   "id": "26fbcc79-e5c3-4a97-a514-c78469deb4fa",
   "metadata": {},
   "outputs": [
    {
     "name": "stdout",
     "output_type": "stream",
     "text": [
      "version: 0.1\n",
      "releases:\n"
     ]
    }
   ],
   "source": [
    "!cat .envers/specs.yaml"
   ]
  },
  {
   "cell_type": "code",
   "execution_count": 7,
   "id": "56609020-2ce2-42ea-8b09-381b92584031",
   "metadata": {},
   "outputs": [
    {
     "name": "stdout",
     "output_type": "stream",
     "text": [
      "\u001b[1m                                                                                \u001b[0m\n",
      "\u001b[1m \u001b[0m\u001b[1;33mUsage: \u001b[0m\u001b[1menvers draft [OPTIONS] VERSION\u001b[0m\u001b[1m                                         \u001b[0m\u001b[1m \u001b[0m\n",
      "\u001b[1m                                                                                \u001b[0m\n",
      " Create a new version draft in the spec file.                                   \n",
      "                                                                                \n",
      "\u001b[2m╭─\u001b[0m\u001b[2m Arguments \u001b[0m\u001b[2m─────────────────────────────────────────────────────────────────\u001b[0m\u001b[2m─╮\u001b[0m\n",
      "\u001b[2m│\u001b[0m \u001b[31m*\u001b[0m    version      \u001b[1;33mTEXT\u001b[0m  \u001b[2m[default: None]\u001b[0m \u001b[2;31m[required]\u001b[0m                           \u001b[2m│\u001b[0m\n",
      "\u001b[2m╰──────────────────────────────────────────────────────────────────────────────╯\u001b[0m\n",
      "\u001b[2m╭─\u001b[0m\u001b[2m Options \u001b[0m\u001b[2m───────────────────────────────────────────────────────────────────\u001b[0m\u001b[2m─╮\u001b[0m\n",
      "\u001b[2m│\u001b[0m \u001b[1;36m-\u001b[0m\u001b[1;36m-from\u001b[0m\u001b[1;36m-version\u001b[0m        \u001b[1;33mTEXT\u001b[0m                                                   \u001b[2m│\u001b[0m\n",
      "\u001b[2m│\u001b[0m \u001b[1;36m-\u001b[0m\u001b[1;36m-from\u001b[0m\u001b[1;36m-env\u001b[0m            \u001b[1;33mTEXT\u001b[0m                                                   \u001b[2m│\u001b[0m\n",
      "\u001b[2m│\u001b[0m \u001b[1;36m-\u001b[0m\u001b[1;36m-help\u001b[0m                \u001b[1;33m    \u001b[0m  Show this message and exit.                      \u001b[2m│\u001b[0m\n",
      "\u001b[2m╰──────────────────────────────────────────────────────────────────────────────╯\u001b[0m\n",
      "\n"
     ]
    }
   ],
   "source": [
    "!envers draft --help"
   ]
  },
  {
   "cell_type": "code",
   "execution_count": 8,
   "id": "e39e3c97-c89b-4807-92c3-ccc3328c8038",
   "metadata": {},
   "outputs": [],
   "source": [
    "!envers draft 1.0"
   ]
  },
  {
   "cell_type": "code",
   "execution_count": 9,
   "id": "18c983e6-bfbf-4c6c-9ca0-a0d1016f681d",
   "metadata": {},
   "outputs": [
    {
     "name": "stdout",
     "output_type": "stream",
     "text": [
      "version: 0.1\n",
      "releases:\n",
      "  '1.0':\n",
      "    status: draft\n",
      "    docs: ''\n",
      "    profiles:\n",
      "    - base\n",
      "    spec:\n",
      "      files: {}\n"
     ]
    }
   ],
   "source": [
    "!cat .envers/specs.yaml"
   ]
  },
  {
   "cell_type": "code",
   "execution_count": 18,
   "id": "c0d773bd-5781-4a0b-bd77-9dea0970f09e",
   "metadata": {},
   "outputs": [
    {
     "name": "stdout",
     "output_type": "stream",
     "text": [
      "Overwriting .envers/specs.yaml\n"
     ]
    }
   ],
   "source": [
    "%%writefile .envers/specs.yaml\n",
    "version: 0.1\n",
    "releases:\n",
    "  '1.0':\n",
    "    status: draft\n",
    "    docs: ''\n",
    "    profiles:\n",
    "    - base\n",
    "    spec:\n",
    "      files:\n",
    "        .env.envers:\n",
    "          type: dotenv # default\n",
    "          vars:\n",
    "            ENV:\n",
    "              type: string\n",
    "              default: dev"
   ]
  },
  {
   "cell_type": "code",
   "execution_count": 11,
   "id": "a3dec54e-4bc6-4b0e-916d-54c0fd0614cd",
   "metadata": {},
   "outputs": [
    {
     "name": "stdout",
     "output_type": "stream",
     "text": [
      "\u001b[1m                                                                                \u001b[0m\n",
      "\u001b[1m \u001b[0m\u001b[1;33mUsage: \u001b[0m\u001b[1menvers deploy [OPTIONS] VERSION\u001b[0m\u001b[1m                                        \u001b[0m\u001b[1m \u001b[0m\n",
      "\u001b[1m                                                                                \u001b[0m\n",
      " Deploy a specific version from the spec file.                                  \n",
      "                                                                                \n",
      "\u001b[2m╭─\u001b[0m\u001b[2m Arguments \u001b[0m\u001b[2m─────────────────────────────────────────────────────────────────\u001b[0m\u001b[2m─╮\u001b[0m\n",
      "\u001b[2m│\u001b[0m \u001b[31m*\u001b[0m    version      \u001b[1;33mTEXT\u001b[0m  \u001b[2m[default: None]\u001b[0m \u001b[2;31m[required]\u001b[0m                           \u001b[2m│\u001b[0m\n",
      "\u001b[2m╰──────────────────────────────────────────────────────────────────────────────╯\u001b[0m\n",
      "\u001b[2m╭─\u001b[0m\u001b[2m Options \u001b[0m\u001b[2m───────────────────────────────────────────────────────────────────\u001b[0m\u001b[2m─╮\u001b[0m\n",
      "\u001b[2m│\u001b[0m \u001b[1;36m-\u001b[0m\u001b[1;36m-help\u001b[0m          Show this message and exit.                                  \u001b[2m│\u001b[0m\n",
      "\u001b[2m╰──────────────────────────────────────────────────────────────────────────────╯\u001b[0m\n",
      "\n"
     ]
    }
   ],
   "source": [
    "!envers deploy --help"
   ]
  },
  {
   "cell_type": "code",
   "execution_count": 19,
   "id": "c595b967-2dbc-4d6c-bd13-3247e8b34fee",
   "metadata": {},
   "outputs": [],
   "source": [
    "!echo \"mypassword\" | envers deploy 1.0"
   ]
  },
  {
   "cell_type": "code",
   "execution_count": 14,
   "id": "ee64747d-b574-478e-abd8-8dea352ae13d",
   "metadata": {},
   "outputs": [
    {
     "name": "stdout",
     "output_type": "stream",
     "text": [
      "The given password is not correct. Try it again.\n"
     ]
    }
   ],
   "source": [
    "!echo \"my-wrong-password\" | envers deploy 1.0"
   ]
  },
  {
   "cell_type": "code",
   "execution_count": 16,
   "id": "c3c7fbf3-7aa1-4b5e-8452-191802819236",
   "metadata": {},
   "outputs": [
    {
     "name": "stdout",
     "output_type": "stream",
     "text": [
      "data.lock  specs.yaml\n"
     ]
    }
   ],
   "source": [
    "!ls .envers/"
   ]
  },
  {
   "cell_type": "code",
   "execution_count": 20,
   "id": "414e8f6c-26d1-4adc-8261-f3bcba85a69a",
   "metadata": {},
   "outputs": [
    {
     "name": "stdout",
     "output_type": "stream",
     "text": [
      "d099e8b178dc8eb2ebbc1d8abcb36c83gAAAAABlfbdEIUOw60q6VgGxetSmSIIhsFMkRLXwUvYI5vsNKDBUrcsAFbzWwM6K4K1vwNVHlR-501c8ApSxkWqaQ4EZnU8jKtKLMKCoBd5W6Hv-MjKVhxsYq66oKrsgm5yS-UM04-WmYfysNdMgPm5rAgsvYVJwzTxAn38xNnmApjITixAXz6b6hu70oxi69uIX0YfQHwvJboXc8dX_z9MoKTycjah7ZNiIaPtzoJOSAs_MLZQLTjxUvBn943XvrMzRFmqUB0886XuiMBtd7wwyVQGZm2ntKbzpwunTM8syqu1IF-zMhXOi7ibntKNPi2oQ7GCyp0aJ5CVqMlnm4uU-nNBdCGMP4fAQ6f7g7QPLTB6NHNfuS0EJvT2Wpe67HLTXzRd2G58W294KNwLqchev5ycjgL4ikXHnDzgqw2_-9iQq__jfJ5YeC9L70jWZlxDffZfmjReYnT1IN5VXZbbH2I538O7YVOgiOYa9BrDaE8b4CrbdGZpMGMahXUd5UmvL7GKi5RicfOGGCo24-2Ok6Oz5sk08amYcHsFjcjPI5rvylp4Ij0N1s7twB9Vsd8Ami4QkqtJZ"
     ]
    }
   ],
   "source": [
    "!cat .envers/data.lock"
   ]
  },
  {
   "cell_type": "code",
   "execution_count": 22,
   "id": "0b6c725f-3be1-4b7d-a623-35bb7e7aa441",
   "metadata": {},
   "outputs": [
    {
     "name": "stdout",
     "output_type": "stream",
     "text": [
      "Environment files for profile 'base' and spec version '1.0' have been created/updated.\n"
     ]
    }
   ],
   "source": [
    "!echo \"mypassword\" | envers profile-load --profile base --spec 1.0"
   ]
  },
  {
   "cell_type": "code",
   "execution_count": 23,
   "id": "d8dc54b8-72e8-4126-8119-f34d972c7c1e",
   "metadata": {},
   "outputs": [
    {
     "name": "stdout",
     "output_type": "stream",
     "text": [
      "ENV=dev\n"
     ]
    }
   ],
   "source": [
    "!cat .env.envers"
   ]
  }
 ],
 "metadata": {
  "kernelspec": {
   "display_name": "Python 3 (ipykernel)",
   "language": "python",
   "name": "python3"
  },
  "language_info": {
   "codemirror_mode": {
    "name": "ipython",
    "version": 3
   },
   "file_extension": ".py",
   "mimetype": "text/x-python",
   "name": "python",
   "nbconvert_exporter": "python",
   "pygments_lexer": "ipython3",
   "version": "3.11.7"
  }
 },
 "nbformat": 4,
 "nbformat_minor": 5
}
